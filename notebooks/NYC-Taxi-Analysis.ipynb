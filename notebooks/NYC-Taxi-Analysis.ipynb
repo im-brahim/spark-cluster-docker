{
 "cells": [
  {
   "cell_type": "code",
   "execution_count": 33,
   "id": "15bb38b5-4042-4d5c-bbdc-f7bb4f631868",
   "metadata": {
    "editable": true,
    "slideshow": {
     "slide_type": ""
    },
    "tags": []
   },
   "outputs": [],
   "source": [
    "############\n",
    "#spark.catalog.clearCache()"
   ]
  },
  {
   "cell_type": "markdown",
   "id": "cf6b4947-283c-4af2-bba7-78e53179f139",
   "metadata": {},
   "source": [
    "### --------------------------------------------------"
   ]
  },
  {
   "cell_type": "code",
   "execution_count": 1,
   "id": "acc99c41-6f15-4a6d-a431-3e22b081def9",
   "metadata": {},
   "outputs": [],
   "source": [
    "import pandas as pd\n",
    "import numpy as np\n",
    "from pyspark.sql import SparkSession"
   ]
  },
  {
   "cell_type": "code",
   "execution_count": 2,
   "id": "2d56db8d-7a21-485f-b89e-bf23ae15f5f3",
   "metadata": {},
   "outputs": [],
   "source": [
    "spark = SparkSession.builder \\\n",
    "    .appName(\"Jupyter with Spark\") \\\n",
    "    .master(\"spark://master:7077\") \\\n",
    "    .config(\"spark.hadoop.fs.s3a.endpoint\", \"http://minio:9000\") \\\n",
    "    .config(\"spark.hadoop.fs.s3a.access.key\", \"minio\") \\\n",
    "    .config(\"spark.hadoop.fs.s3a.secret.key\", \"minio123\") \\\n",
    "    .config(\"spark.hadoop.fs.s3a.path.style.access\", \"true\") \\\n",
    "    .config(\"spark.hadoop.fs.s3a.connection.ssl.enabled\", \"false\") \\\n",
    "    .config(\"spark.hadoop.fs.s3a.impl\", \"org.apache.hadoop.fs.s3a.S3AFileSystem\") \\\n",
    "    .config(\"spark.jars\", \"/opt/spark/jars/hadoop-aws-3.3.4.jar,/opt/spark/jars/aws-java-sdk-bundle-1.12.262.jar\") \\\n",
    "    .getOrCreate()"
   ]
  },
  {
   "cell_type": "code",
   "execution_count": 3,
   "id": "b8f6c057-46f4-43bb-8d58-0196cb972e60",
   "metadata": {},
   "outputs": [
    {
     "data": {
      "text/html": [
       "\n",
       "            <div>\n",
       "                <p><b>SparkSession - in-memory</b></p>\n",
       "                \n",
       "        <div>\n",
       "            <p><b>SparkContext</b></p>\n",
       "\n",
       "            <p><a href=\"http://b067d9b59428:4040\">Spark UI</a></p>\n",
       "\n",
       "            <dl>\n",
       "              <dt>Version</dt>\n",
       "                <dd><code>v3.5.0</code></dd>\n",
       "              <dt>Master</dt>\n",
       "                <dd><code>spark://master:7077</code></dd>\n",
       "              <dt>AppName</dt>\n",
       "                <dd><code>Jupyter with Spark</code></dd>\n",
       "            </dl>\n",
       "        </div>\n",
       "        \n",
       "            </div>\n",
       "        "
      ],
      "text/plain": [
       "<pyspark.sql.session.SparkSession at 0x7fa48ad87350>"
      ]
     },
     "execution_count": 3,
     "metadata": {},
     "output_type": "execute_result"
    }
   ],
   "source": [
    "spark"
   ]
  },
  {
   "cell_type": "code",
   "execution_count": 4,
   "id": "94ed699d-5ec4-4a7d-af68-24fc3c2a516d",
   "metadata": {
    "scrolled": true
   },
   "outputs": [],
   "source": [
    "df = spark.read.option(\"header\", \"true\").parquet(\"s3a://mybucket/taxi/input/NYC-Taxi.parquet\")"
   ]
  },
  {
   "cell_type": "code",
   "execution_count": 5,
   "id": "33edb0e6-bcd3-49ab-afd7-bb399ad8c48e",
   "metadata": {},
   "outputs": [
    {
     "data": {
      "text/plain": [
       "2964624"
      ]
     },
     "execution_count": 5,
     "metadata": {},
     "output_type": "execute_result"
    }
   ],
   "source": [
    "df.count()"
   ]
  },
  {
   "cell_type": "code",
   "execution_count": 14,
   "id": "85ad7121-8466-4e17-8f79-7e28211c65d0",
   "metadata": {},
   "outputs": [
    {
     "name": "stdout",
     "output_type": "stream",
     "text": [
      "root\n",
      " |-- VendorID: integer (nullable = true)\n",
      " |-- tpep_pickup_datetime: timestamp_ntz (nullable = true)\n",
      " |-- tpep_dropoff_datetime: timestamp_ntz (nullable = true)\n",
      " |-- passenger_count: long (nullable = true)\n",
      " |-- trip_distance: double (nullable = true)\n",
      " |-- RatecodeID: long (nullable = true)\n",
      " |-- store_and_fwd_flag: string (nullable = true)\n",
      " |-- PULocationID: integer (nullable = true)\n",
      " |-- DOLocationID: integer (nullable = true)\n",
      " |-- payment_type: long (nullable = true)\n",
      " |-- fare_amount: double (nullable = true)\n",
      " |-- extra: double (nullable = true)\n",
      " |-- mta_tax: double (nullable = true)\n",
      " |-- tip_amount: double (nullable = true)\n",
      " |-- tolls_amount: double (nullable = true)\n",
      " |-- improvement_surcharge: double (nullable = true)\n",
      " |-- total_amount: double (nullable = true)\n",
      " |-- congestion_surcharge: double (nullable = true)\n",
      " |-- Airport_fee: double (nullable = true)\n",
      "\n"
     ]
    }
   ],
   "source": [
    "df.printSchema()"
   ]
  },
  {
   "cell_type": "code",
   "execution_count": 17,
   "id": "79e50cf4-1702-4545-862c-15754c4f3424",
   "metadata": {},
   "outputs": [],
   "source": [
    "long_trip = df.filter(df.trip_distance > 10)"
   ]
  },
  {
   "cell_type": "code",
   "execution_count": 21,
   "id": "646b6475-be5e-4a97-a875-9df421e0e8ef",
   "metadata": {},
   "outputs": [
    {
     "data": {
      "text/plain": [
       "228254"
      ]
     },
     "execution_count": 21,
     "metadata": {},
     "output_type": "execute_result"
    }
   ],
   "source": [
    "long_trip.count()"
   ]
  },
  {
   "cell_type": "code",
   "execution_count": 20,
   "id": "93fe8247-526c-46c9-a278-be4e34d3a802",
   "metadata": {},
   "outputs": [
    {
     "name": "stdout",
     "output_type": "stream",
     "text": [
      "+-------+------------------+------------------+------------------+\n",
      "|summary|     trip_distance|       fare_amount|      total_amount|\n",
      "+-------+------------------+------------------+------------------+\n",
      "|  count|           2964624|           2964624|           2964624|\n",
      "|   mean|3.6521691789580624|18.175061916792536| 26.80150477092493|\n",
      "| stddev|225.46257238220082|18.949547705905324|23.385577429672043|\n",
      "|    min|               0.0|            -899.0|            -900.0|\n",
      "|    max|          312722.3|            5000.0|            5000.0|\n",
      "+-------+------------------+------------------+------------------+\n",
      "\n"
     ]
    }
   ],
   "source": [
    "df.describe([\"trip_distance\", \"fare_amount\", \"total_amount\"]).show()"
   ]
  },
  {
   "cell_type": "code",
   "execution_count": 32,
   "id": "affd30ed-8ecd-4a27-aebf-ddf55f45769e",
   "metadata": {},
   "outputs": [
    {
     "name": "stdout",
     "output_type": "stream",
     "text": [
      "+------------+\n",
      "|payment_type|\n",
      "+------------+\n",
      "|           1|\n",
      "|           3|\n",
      "|           2|\n",
      "|           4|\n",
      "|           0|\n",
      "+------------+\n",
      "\n"
     ]
    }
   ],
   "source": [
    "df.select('payment_type').distinct().show()"
   ]
  },
  {
   "cell_type": "code",
   "execution_count": 33,
   "id": "bfa2c96c-b138-46e7-82e6-68f55cca6c71",
   "metadata": {},
   "outputs": [
    {
     "name": "stdout",
     "output_type": "stream",
     "text": [
      "+------------+-------+\n",
      "|payment_type|  count|\n",
      "+------------+-------+\n",
      "|           1|2319046|\n",
      "|           3|  19597|\n",
      "|           2| 439191|\n",
      "|           4|  46628|\n",
      "|           0| 140162|\n",
      "+------------+-------+\n",
      "\n"
     ]
    }
   ],
   "source": [
    "df.groupBy('payment_type').count().show()"
   ]
  },
  {
   "cell_type": "code",
   "execution_count": 35,
   "id": "c28349b3-f53e-47f0-a347-d4f8279b2b49",
   "metadata": {},
   "outputs": [],
   "source": [
    "from pyspark.sql.functions import *\n",
    "from pyspark.sql.types import *"
   ]
  },
  {
   "cell_type": "code",
   "execution_count": 39,
   "id": "b169e8b0-67e9-465a-91ec-4e50586ba84f",
   "metadata": {},
   "outputs": [
    {
     "name": "stdout",
     "output_type": "stream",
     "text": [
      "+-----------------+\n",
      "|min(payment_type)|\n",
      "+-----------------+\n",
      "|                0|\n",
      "+-----------------+\n",
      "\n"
     ]
    }
   ],
   "source": [
    "df.select(min('payment_type')).show()"
   ]
  },
  {
   "cell_type": "code",
   "execution_count": null,
   "id": "7b249b71-281a-458c-bfb2-3ae2c5ccbfa3",
   "metadata": {},
   "outputs": [],
   "source": []
  },
  {
   "cell_type": "code",
   "execution_count": null,
   "id": "f4066f15-83fb-4842-ab1e-c31d4a5a4f0f",
   "metadata": {},
   "outputs": [],
   "source": []
  },
  {
   "cell_type": "code",
   "execution_count": null,
   "id": "234a0f5d-203b-4621-b975-18b0f54bfdef",
   "metadata": {},
   "outputs": [],
   "source": []
  },
  {
   "cell_type": "code",
   "execution_count": null,
   "id": "e6c37660-fbb9-459d-b7c7-987ceb39c66f",
   "metadata": {},
   "outputs": [],
   "source": []
  },
  {
   "cell_type": "code",
   "execution_count": 6,
   "id": "669ab519-a38f-4d35-93b2-14c3093470ec",
   "metadata": {},
   "outputs": [
    {
     "name": "stdout",
     "output_type": "stream",
     "text": [
      "+---------------+-------+\n",
      "|passenger_count|  count|\n",
      "+---------------+-------+\n",
      "|              0|  31465|\n",
      "|              7|      8|\n",
      "|              6|  22353|\n",
      "|              5|  33506|\n",
      "|              1|2188739|\n",
      "|              3|  91262|\n",
      "|              8|     51|\n",
      "|              2| 405103|\n",
      "|              4|  51974|\n",
      "|              9|      1|\n",
      "|           NULL| 140162|\n",
      "+---------------+-------+\n",
      "\n"
     ]
    }
   ],
   "source": [
    "result = df.groupBy(\"passenger_count\").count()\n",
    "result.show()"
   ]
  },
  {
   "cell_type": "code",
   "execution_count": 15,
   "id": "704e37da-b56a-4502-b13c-d3a766bce109",
   "metadata": {},
   "outputs": [],
   "source": [
    "spark.stop()"
   ]
  },
  {
   "cell_type": "code",
   "execution_count": null,
   "id": "49da49f1-e4ef-4c99-bd75-5a3a7722fc34",
   "metadata": {},
   "outputs": [],
   "source": []
  },
  {
   "cell_type": "code",
   "execution_count": null,
   "id": "23f69d20-69f1-49f3-82c2-df36c835681b",
   "metadata": {},
   "outputs": [],
   "source": []
  }
 ],
 "metadata": {
  "kernelspec": {
   "display_name": "Python 3 (ipykernel)",
   "language": "python",
   "name": "python3"
  },
  "language_info": {
   "codemirror_mode": {
    "name": "ipython",
    "version": 3
   },
   "file_extension": ".py",
   "mimetype": "text/x-python",
   "name": "python",
   "nbconvert_exporter": "python",
   "pygments_lexer": "ipython3",
   "version": "3.11.6"
  }
 },
 "nbformat": 4,
 "nbformat_minor": 5
}
